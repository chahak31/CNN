{
  "nbformat": 4,
  "nbformat_minor": 0,
  "metadata": {
    "colab": {
      "name": "fruitClassification.ipynb",
      "provenance": [],
      "toc_visible": true
    },
    "kernelspec": {
      "name": "python3",
      "display_name": "Python 3"
    }
  },
  "cells": [
    {
      "cell_type": "code",
      "metadata": {
        "id": "QdtvBD7ckDXH"
      },
      "source": [
        "from keras.models import Sequential\r\n",
        "from keras.layers import Convolution2D\r\n",
        "from keras.layers import Flatten\r\n",
        "from keras.layers import Dense\r\n",
        "from keras.layers import MaxPooling2D"
      ],
      "execution_count": 1,
      "outputs": []
    },
    {
      "cell_type": "code",
      "metadata": {
        "id": "92vkmwDwkGO0"
      },
      "source": [
        "#Initializing CNN\r\n",
        "classifier = Sequential()"
      ],
      "execution_count": 2,
      "outputs": []
    },
    {
      "cell_type": "code",
      "metadata": {
        "id": "ayWVpmx5kN8D"
      },
      "source": [
        "#FEATURE LEARNING\r\n",
        "#Adding first Convolutional Layer & Pooling layer\r\n",
        "classifier.add(Convolution2D(32, (3,3), input_shape=(64,64,3), activation='relu'))\r\n",
        "classifier.add(MaxPooling2D(pool_size=(2,2)))"
      ],
      "execution_count": 4,
      "outputs": []
    },
    {
      "cell_type": "code",
      "metadata": {
        "id": "tmWVwg-zkzhl"
      },
      "source": [
        "#Adding second Convolutional & Pooling layer\r\n",
        "classifier.add(Convolution2D(32, (3,3), input_shape=(64,64,3), activation='relu'))\r\n",
        "classifier.add(MaxPooling2D(pool_size=(2,2)))"
      ],
      "execution_count": 5,
      "outputs": []
    },
    {
      "cell_type": "code",
      "metadata": {
        "id": "1FOkeUmxlIDP"
      },
      "source": [
        "#CLASSIFICATION\r\n",
        "#Flattening the layer\r\n",
        "classifier.add(Flatten())"
      ],
      "execution_count": 6,
      "outputs": []
    },
    {
      "cell_type": "code",
      "metadata": {
        "id": "5cjNeVfnlWbG"
      },
      "source": [
        "#Full connection \r\n",
        "#Units represents number of neurons in the layer\r\n",
        "classifier.add(Dense(units=32, activation='relu')) #Hidden layers (5)\r\n",
        "classifier.add(Dense(units=64, activation='relu'))\r\n",
        "classifier.add(Dense(units=128, activation='relu'))\r\n",
        "classifier.add(Dense(units=256, activation='relu'))\r\n",
        "classifier.add(Dense(units=256, activation='relu'))\r\n",
        "classifier.add(Dense(units=6, activation='relu')) #Output layer"
      ],
      "execution_count": 7,
      "outputs": []
    },
    {
      "cell_type": "code",
      "metadata": {
        "id": "JqPk2-fel44C"
      },
      "source": [
        "#Compiling CNN\r\n",
        "classifier.compile(optimizer = 'adam', loss = 'categorical_crossentropy', metrics = ['accuracy'])"
      ],
      "execution_count": 8,
      "outputs": []
    },
    {
      "cell_type": "code",
      "metadata": {
        "id": "Py3TH0JDmMdR"
      },
      "source": [
        "#Fitting images to CNN\r\n",
        "from keras.preprocessing.image import ImageDataGenerator"
      ],
      "execution_count": 9,
      "outputs": []
    },
    {
      "cell_type": "code",
      "metadata": {
        "id": "1p-JT0IVnS8p"
      },
      "source": [
        "train_datagen = ImageDataGenerator(rescale=1./255, #To rescale the image in range of [0,1]\r\n",
        "                                   shear_range=0.2,\r\n",
        "                                   zoom_range=0.2,\r\n",
        "                                   horizontal_flip=True)"
      ],
      "execution_count": 12,
      "outputs": []
    },
    {
      "cell_type": "code",
      "metadata": {
        "id": "zSGLyazenspk"
      },
      "source": [
        "test_datagen = ImageDataGenerator(rescale=1./255)"
      ],
      "execution_count": 21,
      "outputs": []
    },
    {
      "cell_type": "code",
      "metadata": {
        "id": "4977TY02vbvY"
      },
      "source": [
        "# from zipfile import ZipFile\r\n",
        "# train = \"train.zip\"\r\n",
        "\r\n",
        "# with ZipFile(data,'r') as zip:\r\n",
        "#   zip.extractall()\r\n",
        "#   print('Done')"
      ],
      "execution_count": 23,
      "outputs": []
    },
    {
      "cell_type": "code",
      "metadata": {
        "id": "sBMZJs_Zn-u2"
      },
      "source": [
        "# training_set = train_datagen.flow_from_directory('train',\r\n",
        "#                                                  target_size=(64,64),\r\n",
        "#                                                  batch_size =12,\r\n",
        "#                                                  class_mode='categorical') "
      ],
      "execution_count": 24,
      "outputs": []
    },
    {
      "cell_type": "code",
      "metadata": {
        "id": "-EumWwVzpfZM"
      },
      "source": [
        ""
      ],
      "execution_count": null,
      "outputs": []
    }
  ]
}